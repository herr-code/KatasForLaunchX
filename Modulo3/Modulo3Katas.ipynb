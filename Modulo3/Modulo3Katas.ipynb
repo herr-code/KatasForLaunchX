{
 "cells": [
  {
   "cell_type": "markdown",
   "id": "07385ab1",
   "metadata": {},
   "source": [
    "# Módulo 3 \n",
    "\n",
    "## Ejercicio - Escribir declaraciones `if`, `else`, y `elif`"
   ]
  },
  {
   "cell_type": "markdown",
   "id": "a03d80b7",
   "metadata": {},
   "source": [
    "Para este ejercicio, escribirás una lógica condicional que imprima una advertencia si un asteroide se acerca a la Tierra demasiado rápido. La velocidad del asteroide varía dependiendo de lo cerca que esté del sol, y cualquier velocidad superior a 25 kilómetros por segundo (km/s) merece una advertencia.\n",
    "\n",
    "Un asteroide se acerca, y viaja a una velocidad de 49 km/s."
   ]
  },
  {
   "cell_type": "code",
   "execution_count": 4,
   "id": "1cc08fcc",
   "metadata": {},
   "outputs": [
    {
     "name": "stdout",
     "output_type": "stream",
     "text": [
      "\u001b[1;37;41mNASA asteroid alert !\n"
     ]
    }
   ],
   "source": [
    "# Añadir el código necesario para crear una variable que guarde la velocidad del asteroide.\n",
    "# Escribe una expresión de prueba para calcular si necesita una advertencia.\n",
    "# Agregue las instrucciones que se ejecutarán si la expresión de prueba es true o false.\n",
    "#print(\"\\033[1;37;46m\"+\"NASA asteroid alert !\")\n",
    "#print(\"\\033[1;37;43m\"+\"NASA asteroid alert !\")\n",
    "# Ejercicio 1\n",
    "\n",
    "#velocidad km/s\n",
    "speedAsteroid = 49\n",
    "\n",
    "if speedAsteroid > 25:\n",
    "    print(\"\\033[1;37;41m\"+\"NASA asteroid alert !\")\n",
    "else:\n",
    "    print(\"\\033[1;37;46m\"+\"All right !\")"
   ]
  },
  {
   "cell_type": "markdown",
   "id": "50f8b8da",
   "metadata": {},
   "source": [
    "Si un asteroide entra en la atmósfera de la Tierra a una velocidad mayor o igual a 20 km/s, a veces produce un rayo de luz que se puede ver desde la Tierra. Escribe la lógica condicional que usa declaraciones `if`, `else`, y `elif` para alertar a las personas de todo el mundo que deben buscar un asteroide en el cielo. ¡Hay uno que se dirige a la tierra ahora a una velocidad de 19 km/s"
   ]
  },
  {
   "cell_type": "code",
   "execution_count": 6,
   "id": "623cb2e6",
   "metadata": {},
   "outputs": [
    {
     "name": "stdout",
     "output_type": "stream",
     "text": [
      "¡There´s nothing!\n"
     ]
    }
   ],
   "source": [
    "# Agrega el código para crear una variable para un asteroide que viaja a 19 km/s\n",
    "# Escribe varias expresiones de prueba para determinar si puedes ver el rayo de luz desde la tierra\n",
    "# Agrega las instrucciones que se ejecutarán si las expresiones de prueba son True o False\n",
    "# Ejercicio 2\n",
    "\n",
    "#velocidad km/s\n",
    "speedAsteroid = 19\n",
    "\n",
    "if speedAsteroid >= 20:\n",
    "    print('Look up! ¡Look for asteroid in the sky!')\n",
    "else:\n",
    "    print('¡There´s nothing!')"
   ]
  },
  {
   "cell_type": "markdown",
   "id": "a200e488",
   "metadata": {},
   "source": [
    "## Ejercicio: Uso de operadores `and` y `or` \n",
    "\n",
    "En este ejercicio, aprenderás información más matizada sobre cuándo los asteroides representan un peligro para la Tierra, y utilizarás esa información para mejorar nuestro sistema de advertencia. Aquí está la nueva información que necesitas saber:\n",
    "\n",
    "* Los asteroides de menos de 25 metros en su dimensión más grande probablemente se quemarán a medida que entren en la atmósfera de la Tierra.\n",
    "* Si una pieza de un asteroide que es más grande que 25 metros pero más pequeña que 1000 metros golpeara la Tierra, causaría mucho daño.\n",
    "\n",
    "También discutimos en el ejercicio anterior que:\n",
    "\n",
    "* La velocidad del asteroide varía en función de lo cerca que esté del sol, y cualquier velocidad superior a 25 kilómetros por segundo (km/s) merece una advertencia.\n",
    "* Si un asteroide entra en la atmósfera de la Tierra a una velocidad mayor o igual a 20 km/s, a veces produce un rayo de luz que se puede ver desde la Tierra.\n",
    "\n",
    "Usando toda esta información, escribe un programa que emita la advertencia o información correcta a la gente de la Tierra, según la velocidad y el tamaño de un asteroide. Utiliza instrucciones `if`, `else`, y `elif`, así como los operadores `and` y `or`."
   ]
  },
  {
   "cell_type": "code",
   "execution_count": 9,
   "id": "03331336",
   "metadata": {},
   "outputs": [
    {
     "name": "stdout",
     "output_type": "stream",
     "text": [
      "Look up! Look for asteroid in the sky!\n"
     ]
    }
   ],
   "source": [
    "# Agrega el código para crear nuevas variables para la velocidad y el tamaño del asteroide\n",
    "# Para probar el código, prueba con varias velocidades y tamaños\n",
    "# Escribe varias expresiones de prueba o combinaciones de expresiones de prueba para determinar qué mensaje se debe enviar a Tierra.\n",
    "#Ejercicio 3\n",
    "\n",
    "# tamaño del Asteroide en metros\n",
    "dimAsteroid = 25\n",
    "\n",
    "# velocidad km/s\n",
    "speedAsteroid = 49\n",
    "\n",
    "if speedAsteroid > 25 and dimAsteroid > 25:\n",
    "    print('\\033[1;37;41m' + 'NASA asteroid alert !')\n",
    "elif speedAsteroid >= 20:\n",
    "    print('Look up! Look for asteroid in the sky!')\n",
    "elif dimAsteroid < 25:\n",
    "    print('Nothing to see here !')\n",
    "else:\n",
    "    print('Nothing to see here !')"
   ]
  }
 ],
 "metadata": {
  "kernelspec": {
   "display_name": "Python 3 (ipykernel)",
   "language": "python",
   "name": "python3"
  },
  "language_info": {
   "codemirror_mode": {
    "name": "ipython",
    "version": 3
   },
   "file_extension": ".py",
   "mimetype": "text/x-python",
   "name": "python",
   "nbconvert_exporter": "python",
   "pygments_lexer": "ipython3",
   "version": "3.8.10"
  }
 },
 "nbformat": 4,
 "nbformat_minor": 5
}
