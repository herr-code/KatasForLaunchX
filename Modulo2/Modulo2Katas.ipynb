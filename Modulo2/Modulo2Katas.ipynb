{
 "cells": [
  {
   "cell_type": "markdown",
   "id": "d734ffc1",
   "metadata": {},
   "source": [
    "# Módulo 2 Ejercicio - Crear un paquete"
   ]
  },
  {
   "cell_type": "markdown",
   "id": "45331e4d",
   "metadata": {},
   "source": [
    "En este ejercicio, aprenderás a utilizar entornos virtuales como una forma para no afectar a los paquetes instalados globalmente u otros programas que se ejecutan en tu máquina.\n",
    "\n",
    "Para este ejercicio es necesario que lo ejecutes desde la terminal, línea de comandos, cmd, consola, cli, etc. de tu computadora, sé que es desafíante, pero no te preocupes ¡¡Sé que puedes lograrlo!!"
   ]
  },
  {
   "cell_type": "markdown",
   "id": "94b7d00d",
   "metadata": {},
   "source": [
    "## Crear un entorno virtual"
   ]
  },
  {
   "cell_type": "markdown",
   "id": "f797aa7c",
   "metadata": {},
   "source": [
    "Crea un entorno virtual mediante ``venv``\n",
    "* Desde tu terminal ve al directorio donde deseas guardar tu proyecto. (Documentos/TuFolderPreferido) Ejemplo en windows: ``cd Documents/TuFolderPreferido``\n"
   ]
  },
  {
   "cell_type": "markdown",
   "id": "5f98e99a",
   "metadata": {},
   "source": [
    "![Comando cd](images/img1.png \"Comando cd\") "
   ]
  },
  {
   "cell_type": "markdown",
   "id": "3d64ca4b",
   "metadata": {},
   "source": [
    "* Ejecutar en su terminal: ``python3 -m venv env`` o bien ``python -m venv env``\n",
    "\n",
    "    Ahora tienes un directorio (folder) ``env`` creado en tu terminal.\n"
   ]
  },
  {
   "cell_type": "markdown",
   "id": "d33b6444",
   "metadata": {},
   "source": [
    "![Creando entorno virtual](images/img2.png \"Creando entorno virtual\") "
   ]
  },
  {
   "cell_type": "markdown",
   "id": "54f06d8b",
   "metadata": {},
   "source": [
    "* Ejecuta el comando para activar el entorno virtual: ``source env/Scripts/activate``\n",
    "\n",
    "   \n",
    "Ahora ves en tu terminal ``(env)``. Eso significa que has activado tu entorno virtual y se ha aislado del resto de tu máquina.\n"
   ]
  },
  {
   "cell_type": "markdown",
   "id": "f69d5461",
   "metadata": {},
   "source": [
    "![Activando entorno virtual](images/img3.png \"Activando entorno virtual\") "
   ]
  },
  {
   "cell_type": "markdown",
   "id": "9f4c0875",
   "metadata": {},
   "source": [
    "## Instalar una biblioteca"
   ]
  },
  {
   "cell_type": "markdown",
   "id": "4ea09db3",
   "metadata": {},
   "source": [
    "Ahora que estás dentro de tu entorno virtual, puedes instalar una biblioteca y saber que la biblioteca solo existirá en el entorno virtual.\n",
    "\n",
    "* Ejecuta el comando ``pip freeze`` para ver las bibliotecas instaladas en tu entorno:\n",
    "\n",
    "    ```\n",
    "    pip freeze\n",
    "    ```\n",
    "\n",
    "    No deberías obtener respuesta. A continuación, veamos cómo cambia la salida de ``pip freeze`` cuando se agrega una biblioteca (un paquete)."
   ]
  },
  {
   "cell_type": "markdown",
   "id": "af718bfe",
   "metadata": {},
   "source": [
    "![Listando paquetes instalados](images/img4.png \"Listando paquetes instalados\") "
   ]
  },
  {
   "cell_type": "markdown",
   "id": "d6c3f177",
   "metadata": {},
   "source": [
    "* Ejecuta el comando ``pip install`` para instalar una biblioteca:"
   ]
  },
  {
   "cell_type": "markdown",
   "id": "b7aa03d0",
   "metadata": {},
   "source": [
    "![Instalación de un paquete con pip](images/img5.png \"Instalación de un paquete con pip\")"
   ]
  },
  {
   "cell_type": "markdown",
   "id": "c0612479",
   "metadata": {},
   "source": [
    "* Un gran mensaje de salida de texto dice que está instalando tu biblioteca, y debe terminar con la siguiente oración:\n",
    "\n",
    "    `` Successfully installed python-dateutil-2.8.2 six-1.16.0``"
   ]
  },
  {
   "cell_type": "markdown",
   "id": "030d9b4c",
   "metadata": {},
   "source": [
    "* Vuelve a ejecutar ```pip freeze``` para ver cómo ha cambiado tu lista de bibliotecas:"
   ]
  },
  {
   "cell_type": "markdown",
   "id": "881402fa",
   "metadata": {},
   "source": [
    "![Listando paquetes instalados](images/img6.png \"Listando paquetes instalados\") "
   ]
  },
  {
   "cell_type": "markdown",
   "id": "01474b9b",
   "metadata": {},
   "source": [
    "* Ahora deberías ver la siguiente lista:\n",
    "    \n",
    "    ``\n",
    "    python-dateutil==2.8.2\n",
    "    six==1.16.0\n",
    "    ``\n",
    "\n",
    "### Desactivar un entorno virtual\n",
    "\n",
    "Hasta ahora, has creado un entorno virtual y le has agregado un paquete. Sin embargo, es posible que estés trabajando en varios proyectos de Python y necesites cambiar entre ellos. Para hacer eso, debes salir (desactivar) tu entorno virtual.\n",
    "\n",
    "Ejecuta el comando ``deactivate``:\n",
    "\n",
    "Observa cómo cambia el mensaje de tu terminal ``(env)`` a cómo se veía antes."
   ]
  },
  {
   "cell_type": "markdown",
   "id": "1e7612d3",
   "metadata": {},
   "source": [
    "![Saliendo del entorno virtual con deactivate](images/img7.png \"Saliendo del entorno virtual con deactivate\")"
   ]
  }
 ],
 "metadata": {
  "kernelspec": {
   "display_name": "Python 3 (ipykernel)",
   "language": "python",
   "name": "python3"
  },
  "language_info": {
   "codemirror_mode": {
    "name": "ipython",
    "version": 3
   },
   "file_extension": ".py",
   "mimetype": "text/x-python",
   "name": "python",
   "nbconvert_exporter": "python",
   "pygments_lexer": "ipython3",
   "version": "3.8.10"
  }
 },
 "nbformat": 4,
 "nbformat_minor": 5
}
