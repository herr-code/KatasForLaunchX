{
 "cells": [
  {
   "cell_type": "markdown",
   "metadata": {},
   "source": [
    "Oficial superior> \"¿Cadete?\"\n",
    "\n",
    "Usted > \"¿Sí, señora?\"\n",
    "\n",
    "Oficial superior> \"¿Puedes construir un programa que me muestre la fecha? La computadora del barco no venía con mucho en términos de programas de utilidad, por lo que necesitamos crear los que necesitamos. ¿Puedo confiar en ti con esto?\"\n",
    "\n",
    "Usted > \"Considéralo hecho\".\n",
    "\n",
    "Oficial superior> \"Excelente\".\n",
    "\n",
    "## Tu primer programa\n",
    "\n",
    "Para crear este programa, deberás utilizar los conceptos que aprendiste en el último módulo. Usarás Jupyter Notebook en este ejercicio, que es una combinación de texto y código con la que puede interactuar. Finaliza el código siguiente para que el resultado muestre la fecha de hoy."
   ]
  },
  {
   "cell_type": "code",
   "execution_count": 35,
   "metadata": {},
   "outputs": [
    {
     "name": "stdout",
     "output_type": "stream",
     "text": [
      "Today's date is: Friday February 11th, 2022\n"
     ]
    }
   ],
   "source": [
    "#Módulo requerido\n",
    "from datetime import date\n",
    "\n",
    "#Función anónima para cambiar a números ordinales\n",
    "ordinal = lambda n: f'{n}{\"tsnrhtdd\"[(n//10%10!=1)*(n%10<4)*n%10::4]}'\n",
    "\n",
    "#Dar formato más amigable a la fecha\n",
    "def current_date_format(date):\n",
    "    months = (\"January\", \"February\", \"March\", \"April\", \"May\", \"June\", \"July\", \"August\", \"September\", \"October\", \"November\", \"December\")\n",
    "    days = (\"Mon\", \"Tues\", \"Wednes\", \"Thurs\", \"Fri\", \"Satur\", \"Sun\")\n",
    "    day = ordinal(date.day)\n",
    "    month = months[date.month - 1]\n",
    "    year = date.year\n",
    "    messsage = \"Today's date is: {} {} {}, {}\".format(days[date.weekday()] + \"day\", month, day, year)\n",
    "\n",
    "    return messsage\n",
    "   \n",
    "#Obtener fecha actual\n",
    "now = date.today()\n",
    "\n",
    "#Salida formateda\n",
    "print(current_date_format(now))"
   ]
  },
  {
   "cell_type": "markdown",
   "metadata": {},
   "source": [
    "> **TIP**\n",
    "> Dedique unos minutos a tratar de encontrar una solución. Luego desplácese hacia abajo hasta la parte inferior para ver si ha logrado compilar el programa de acuerdo con las especificaciones.\n",
    "\n",
    "## Construir un convertidor de unidades\n",
    "\n",
    "El oficial superior> \"Necesito una cosa más: un programa de conversión entre parsecs y años luz. Tener un programa de este tipo podría ser realmente útil en el puente para trazar nuestro curso\".\n",
    "\n",
    "Tú> \"¡Lo haré!\"\n"
   ]
  },
  {
   "cell_type": "code",
   "execution_count": 39,
   "metadata": {},
   "outputs": [
    {
     "name": "stdout",
     "output_type": "stream",
     "text": [
      "11 parsec, is 35.877159999999996 lightyears\n"
     ]
    }
   ],
   "source": [
    "parsec = 11\n",
    "#Función anónima para convertir parsec a lightyears\n",
    "lightyears = lambda n: 3.26156 * n\n",
    "\n",
    "print(str(parsec) + \" parsec, is \" + str(lightyears(parsec)) + \" lightyears\")"
   ]
  }
 ],
 "metadata": {
  "kernel_info": {
   "name": "conda-env-py37_default-py"
  },
  "kernelspec": {
   "display_name": "Python 3 (ipykernel)",
   "language": "python",
   "name": "python3"
  },
  "language_info": {
   "codemirror_mode": {
    "name": "ipython",
    "version": 3
   },
   "file_extension": ".py",
   "mimetype": "text/x-python",
   "name": "python",
   "nbconvert_exporter": "python",
   "pygments_lexer": "ipython3",
   "version": "3.8.10"
  },
  "nteract": {
   "version": "nteract-front-end@1.0.0"
  }
 },
 "nbformat": 4,
 "nbformat_minor": 2
}
